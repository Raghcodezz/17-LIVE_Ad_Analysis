{
 "cells": [
  {
   "cell_type": "code",
   "execution_count": 238,
   "id": "b14c9fe1-f3d2-43bc-9ad1-94e97a66b462",
   "metadata": {},
   "outputs": [],
   "source": [
    "import numpy as np\n",
    "import pandas as pd\n",
    "import matplotlib.pyplot as plt\n",
    "import seaborn as sns"
   ]
  },
  {
   "cell_type": "code",
   "execution_count": 239,
   "id": "83dc5b7f-3f7d-4306-8977-bbb5011eed32",
   "metadata": {},
   "outputs": [],
   "source": [
    "data= pd.read_csv('all_stream_info.csv')"
   ]
  },
  {
   "cell_type": "code",
   "execution_count": 240,
   "id": "080d7e68-9e54-437d-8424-ae9b555c95ed",
   "metadata": {},
   "outputs": [
    {
     "data": {
      "text/html": [
       "<div>\n",
       "<style scoped>\n",
       "    .dataframe tbody tr th:only-of-type {\n",
       "        vertical-align: middle;\n",
       "    }\n",
       "\n",
       "    .dataframe tbody tr th {\n",
       "        vertical-align: top;\n",
       "    }\n",
       "\n",
       "    .dataframe thead th {\n",
       "        text-align: right;\n",
       "    }\n",
       "</style>\n",
       "<table border=\"1\" class=\"dataframe\">\n",
       "  <thead>\n",
       "    <tr style=\"text-align: right;\">\n",
       "      <th></th>\n",
       "      <th>liveStreamID</th>\n",
       "      <th>beginTime</th>\n",
       "      <th>endTime</th>\n",
       "      <th>duration</th>\n",
       "      <th>closeBy</th>\n",
       "      <th>maxLiveViewerCount</th>\n",
       "      <th>maxLiveViewerTime</th>\n",
       "      <th>privateLiveStream</th>\n",
       "      <th>receivedLikeCount</th>\n",
       "      <th>streamerType</th>\n",
       "      <th>...</th>\n",
       "      <th>durationGTE5sec</th>\n",
       "      <th>durationGTE2min</th>\n",
       "      <th>durationGTE10min</th>\n",
       "      <th>totalViewerDuration</th>\n",
       "      <th>avgViewerDuration</th>\n",
       "      <th>avgStreamJoinDuration</th>\n",
       "      <th>count</th>\n",
       "      <th>followIncreaseEstimated</th>\n",
       "      <th>receivePointEstimated</th>\n",
       "      <th>dau</th>\n",
       "    </tr>\n",
       "  </thead>\n",
       "  <tbody>\n",
       "    <tr>\n",
       "      <th>0</th>\n",
       "      <td>109437538</td>\n",
       "      <td>2020-06-22 11:55:21 UTC</td>\n",
       "      <td>2020-06-22 16:37:19 UTC</td>\n",
       "      <td>16918</td>\n",
       "      <td>normalEnd</td>\n",
       "      <td>363</td>\n",
       "      <td>2020-06-22 16:28:17.87 UTC</td>\n",
       "      <td>0</td>\n",
       "      <td>11092</td>\n",
       "      <td>0</td>\n",
       "      <td>...</td>\n",
       "      <td>68</td>\n",
       "      <td>17</td>\n",
       "      <td>13</td>\n",
       "      <td>32248.0</td>\n",
       "      <td>424.32</td>\n",
       "      <td>228.71</td>\n",
       "      <td>1108</td>\n",
       "      <td>5</td>\n",
       "      <td>13105</td>\n",
       "      <td>NaN</td>\n",
       "    </tr>\n",
       "    <tr>\n",
       "      <th>1</th>\n",
       "      <td>109441785</td>\n",
       "      <td>2020-06-22 14:55:26 UTC</td>\n",
       "      <td>2020-06-22 21:31:19 UTC</td>\n",
       "      <td>23753</td>\n",
       "      <td>normalEnd</td>\n",
       "      <td>100</td>\n",
       "      <td>2020-06-22 19:07:52.872 UTC</td>\n",
       "      <td>0</td>\n",
       "      <td>772</td>\n",
       "      <td>0</td>\n",
       "      <td>...</td>\n",
       "      <td>68</td>\n",
       "      <td>20</td>\n",
       "      <td>8</td>\n",
       "      <td>17138.0</td>\n",
       "      <td>186.28</td>\n",
       "      <td>134.94</td>\n",
       "      <td>2318</td>\n",
       "      <td>-3</td>\n",
       "      <td>90701</td>\n",
       "      <td>NaN</td>\n",
       "    </tr>\n",
       "    <tr>\n",
       "      <th>2</th>\n",
       "      <td>109438205</td>\n",
       "      <td>2020-06-22 12:20:34 UTC</td>\n",
       "      <td>2020-06-22 16:02:46 UTC</td>\n",
       "      <td>13332</td>\n",
       "      <td>disconnect</td>\n",
       "      <td>471</td>\n",
       "      <td>2020-06-22 14:53:26.692 UTC</td>\n",
       "      <td>0</td>\n",
       "      <td>19403</td>\n",
       "      <td>0</td>\n",
       "      <td>...</td>\n",
       "      <td>696</td>\n",
       "      <td>60</td>\n",
       "      <td>17</td>\n",
       "      <td>60852.0</td>\n",
       "      <td>81.14</td>\n",
       "      <td>34.46</td>\n",
       "      <td>1199</td>\n",
       "      <td>7</td>\n",
       "      <td>222376</td>\n",
       "      <td>NaN</td>\n",
       "    </tr>\n",
       "    <tr>\n",
       "      <th>3</th>\n",
       "      <td>109438917</td>\n",
       "      <td>2020-06-22 12:54:21 UTC</td>\n",
       "      <td>2020-06-22 14:47:27 UTC</td>\n",
       "      <td>6786</td>\n",
       "      <td>normalEnd</td>\n",
       "      <td>44</td>\n",
       "      <td>2020-06-22 14:29:13.806 UTC</td>\n",
       "      <td>0</td>\n",
       "      <td>191</td>\n",
       "      <td>0</td>\n",
       "      <td>...</td>\n",
       "      <td>41</td>\n",
       "      <td>12</td>\n",
       "      <td>8</td>\n",
       "      <td>18326.0</td>\n",
       "      <td>389.91</td>\n",
       "      <td>213.09</td>\n",
       "      <td>432</td>\n",
       "      <td>0</td>\n",
       "      <td>4313</td>\n",
       "      <td>NaN</td>\n",
       "    </tr>\n",
       "    <tr>\n",
       "      <th>4</th>\n",
       "      <td>109442185</td>\n",
       "      <td>2020-06-22 15:18:20 UTC</td>\n",
       "      <td>2020-06-22 15:48:02 UTC</td>\n",
       "      <td>1782</td>\n",
       "      <td>normalEnd</td>\n",
       "      <td>52</td>\n",
       "      <td>2020-06-22 15:42:33.849 UTC</td>\n",
       "      <td>0</td>\n",
       "      <td>77</td>\n",
       "      <td>0</td>\n",
       "      <td>...</td>\n",
       "      <td>38</td>\n",
       "      <td>17</td>\n",
       "      <td>5</td>\n",
       "      <td>8465.0</td>\n",
       "      <td>222.76</td>\n",
       "      <td>138.77</td>\n",
       "      <td>162</td>\n",
       "      <td>0</td>\n",
       "      <td>1547</td>\n",
       "      <td>NaN</td>\n",
       "    </tr>\n",
       "  </tbody>\n",
       "</table>\n",
       "<p>5 rows × 29 columns</p>\n",
       "</div>"
      ],
      "text/plain": [
       "   liveStreamID                beginTime                  endTime  duration  \\\n",
       "0     109437538  2020-06-22 11:55:21 UTC  2020-06-22 16:37:19 UTC     16918   \n",
       "1     109441785  2020-06-22 14:55:26 UTC  2020-06-22 21:31:19 UTC     23753   \n",
       "2     109438205  2020-06-22 12:20:34 UTC  2020-06-22 16:02:46 UTC     13332   \n",
       "3     109438917  2020-06-22 12:54:21 UTC  2020-06-22 14:47:27 UTC      6786   \n",
       "4     109442185  2020-06-22 15:18:20 UTC  2020-06-22 15:48:02 UTC      1782   \n",
       "\n",
       "      closeBy  maxLiveViewerCount            maxLiveViewerTime  \\\n",
       "0   normalEnd                 363   2020-06-22 16:28:17.87 UTC   \n",
       "1   normalEnd                 100  2020-06-22 19:07:52.872 UTC   \n",
       "2  disconnect                 471  2020-06-22 14:53:26.692 UTC   \n",
       "3   normalEnd                  44  2020-06-22 14:29:13.806 UTC   \n",
       "4   normalEnd                  52  2020-06-22 15:42:33.849 UTC   \n",
       "\n",
       "   privateLiveStream  receivedLikeCount  streamerType  ...  durationGTE5sec  \\\n",
       "0                  0              11092             0  ...               68   \n",
       "1                  0                772             0  ...               68   \n",
       "2                  0              19403             0  ...              696   \n",
       "3                  0                191             0  ...               41   \n",
       "4                  0                 77             0  ...               38   \n",
       "\n",
       "   durationGTE2min durationGTE10min totalViewerDuration avgViewerDuration  \\\n",
       "0               17               13             32248.0            424.32   \n",
       "1               20                8             17138.0            186.28   \n",
       "2               60               17             60852.0             81.14   \n",
       "3               12                8             18326.0            389.91   \n",
       "4               17                5              8465.0            222.76   \n",
       "\n",
       "   avgStreamJoinDuration  count  followIncreaseEstimated  \\\n",
       "0                 228.71   1108                        5   \n",
       "1                 134.94   2318                       -3   \n",
       "2                  34.46   1199                        7   \n",
       "3                 213.09    432                        0   \n",
       "4                 138.77    162                        0   \n",
       "\n",
       "   receivePointEstimated  dau  \n",
       "0                  13105  NaN  \n",
       "1                  90701  NaN  \n",
       "2                 222376  NaN  \n",
       "3                   4313  NaN  \n",
       "4                   1547  NaN  \n",
       "\n",
       "[5 rows x 29 columns]"
      ]
     },
     "execution_count": 240,
     "metadata": {},
     "output_type": "execute_result"
    }
   ],
   "source": [
    "data.head()"
   ]
  },
  {
   "cell_type": "code",
   "execution_count": 241,
   "id": "6fb014d0-83b2-4770-9839-c35d86f2109f",
   "metadata": {},
   "outputs": [
    {
     "data": {
      "text/plain": [
       "liveStreamID                  0\n",
       "beginTime                     0\n",
       "endTime                       0\n",
       "duration                      0\n",
       "closeBy                      97\n",
       "maxLiveViewerCount            0\n",
       "maxLiveViewerTime          1310\n",
       "privateLiveStream             0\n",
       "receivedLikeCount             0\n",
       "streamerType                  0\n",
       "isShow                        0\n",
       "cultureGroup               3148\n",
       "userID                        0\n",
       "registerTime                  0\n",
       "registerCountry               0\n",
       "isContracted               3148\n",
       "uniqueViewerCount             0\n",
       "ios                           0\n",
       "android                       0\n",
       "durationGTE5sec               0\n",
       "durationGTE2min               0\n",
       "durationGTE10min              0\n",
       "totalViewerDuration        1459\n",
       "avgViewerDuration          1459\n",
       "avgStreamJoinDuration      1459\n",
       "count                         0\n",
       "followIncreaseEstimated       0\n",
       "receivePointEstimated         0\n",
       "dau                        3148\n",
       "dtype: int64"
      ]
     },
     "execution_count": 241,
     "metadata": {},
     "output_type": "execute_result"
    }
   ],
   "source": [
    "# checking null values in the data.\n",
    "data.isnull().sum()"
   ]
  },
  {
   "cell_type": "code",
   "execution_count": 242,
   "id": "441fae7f-06c5-4c6b-bf5a-644871ba2cf0",
   "metadata": {},
   "outputs": [],
   "source": [
    "# dropping culturegroup, iscontracted, dau beacuse they only contain null values.\n",
    "data.drop(columns=['cultureGroup','isContracted','dau'], axis=1, inplace=True)"
   ]
  },
  {
   "cell_type": "code",
   "execution_count": 243,
   "id": "efd3ae12-5d3c-4efa-8058-d61c9113d7fb",
   "metadata": {},
   "outputs": [
    {
     "data": {
      "text/plain": [
       "liveStreamID                  0\n",
       "beginTime                     0\n",
       "endTime                       0\n",
       "duration                      0\n",
       "closeBy                      97\n",
       "maxLiveViewerCount            0\n",
       "maxLiveViewerTime          1310\n",
       "privateLiveStream             0\n",
       "receivedLikeCount             0\n",
       "streamerType                  0\n",
       "isShow                        0\n",
       "userID                        0\n",
       "registerTime                  0\n",
       "registerCountry               0\n",
       "uniqueViewerCount             0\n",
       "ios                           0\n",
       "android                       0\n",
       "durationGTE5sec               0\n",
       "durationGTE2min               0\n",
       "durationGTE10min              0\n",
       "totalViewerDuration        1459\n",
       "avgViewerDuration          1459\n",
       "avgStreamJoinDuration      1459\n",
       "count                         0\n",
       "followIncreaseEstimated       0\n",
       "receivePointEstimated         0\n",
       "dtype: int64"
      ]
     },
     "execution_count": 243,
     "metadata": {},
     "output_type": "execute_result"
    }
   ],
   "source": [
    "data.isnull().sum()"
   ]
  },
  {
   "cell_type": "code",
   "execution_count": 244,
   "id": "337814c6-455d-4221-a37b-feda33c11b4d",
   "metadata": {},
   "outputs": [
    {
     "data": {
      "text/plain": [
       "liveStreamID               3148\n",
       "beginTime                  3139\n",
       "endTime                    3137\n",
       "duration                   2025\n",
       "closeBy                      10\n",
       "maxLiveViewerCount          196\n",
       "maxLiveViewerTime          1838\n",
       "privateLiveStream             1\n",
       "receivedLikeCount           581\n",
       "streamerType                  1\n",
       "isShow                        1\n",
       "userID                     1000\n",
       "registerTime                999\n",
       "registerCountry               1\n",
       "uniqueViewerCount           358\n",
       "ios                         234\n",
       "android                     232\n",
       "durationGTE5sec             326\n",
       "durationGTE2min             123\n",
       "durationGTE10min             74\n",
       "totalViewerDuration        1541\n",
       "avgViewerDuration          1564\n",
       "avgStreamJoinDuration      1555\n",
       "count                       569\n",
       "followIncreaseEstimated      68\n",
       "receivePointEstimated      1108\n",
       "dtype: int64"
      ]
     },
     "execution_count": 244,
     "metadata": {},
     "output_type": "execute_result"
    }
   ],
   "source": [
    "data.nunique()"
   ]
  },
  {
   "cell_type": "code",
   "execution_count": 245,
   "id": "47c3c670-7805-4450-916d-0a26e65cc761",
   "metadata": {},
   "outputs": [],
   "source": [
    "# now we would be removing the columns with single unique value as they contain only one value and not usefull for analysis.\n",
    "data.drop(columns=['registerCountry','isShow','streamerType','privateLiveStream'], axis=1, inplace=True)"
   ]
  },
  {
   "cell_type": "code",
   "execution_count": 250,
   "id": "ca70f9a1-5717-4c90-9892-067660ebd210",
   "metadata": {},
   "outputs": [],
   "source": [
    "# converting the begintime, endtime, maxliveviewertime to date_time for easier calculations.\n",
    "data['beginTime']=pd.to_datetime(data['beginTime'])\n",
    "data['endTime']=pd.to_datetime(data['endTime'])"
   ]
  },
  {
   "cell_type": "code",
   "execution_count": 251,
   "id": "cc7545cb-d56c-4c18-8bb0-df848c0cbb0f",
   "metadata": {},
   "outputs": [],
   "source": [
    "data['maxLiveViewerTime']=pd.to_datetime(data['maxLiveViewerTime'], errors='coerce')"
   ]
  },
  {
   "cell_type": "code",
   "execution_count": 255,
   "id": "1a7ff8ea-e892-463f-a9bb-b34fa3b48ef1",
   "metadata": {},
   "outputs": [
    {
     "name": "stdout",
     "output_type": "stream",
     "text": [
      "44.560991105463785\n"
     ]
    }
   ],
   "source": [
    "# Average of people who leave stream in first 5sec.\n",
    "avg_of_durationGTR5sec = data['durationGTE5sec'].mean()\n",
    "print(avg_of_durationGTR5sec)"
   ]
  },
  {
   "cell_type": "code",
   "execution_count": 256,
   "id": "1e99b2ea-1585-48d1-a70a-2a032d176811",
   "metadata": {},
   "outputs": [
    {
     "name": "stdout",
     "output_type": "stream",
     "text": [
      "8.994917407878019\n"
     ]
    }
   ],
   "source": [
    "# Average of people who leave stream in first 2min.\n",
    "avg_of_durationGTR2min = data['durationGTE2min'].mean()\n",
    "print(avg_of_durationGTR2min)"
   ]
  },
  {
   "cell_type": "code",
   "execution_count": 257,
   "id": "da409467-69ed-4756-9054-75db0f7a2e37",
   "metadata": {},
   "outputs": [
    {
     "name": "stdout",
     "output_type": "stream",
     "text": [
      "3.93710292249047\n"
     ]
    }
   ],
   "source": [
    "# Average of people who leave stream in first 10min.\n",
    "avg_of_durationGTR10min = data['durationGTE10min'].mean()\n",
    "print(avg_of_durationGTR10min)"
   ]
  },
  {
   "cell_type": "code",
   "execution_count": 258,
   "id": "8fe794bf-0bed-43db-9737-de9fe288162f",
   "metadata": {},
   "outputs": [
    {
     "data": {
      "image/png": "[encoded data removed]",
      "text/plain": [
       "<Figure size 640x480 with 1 Axes>"
      ]
     },
     "metadata": {},
     "output_type": "display_data"
    }
   ],
   "source": [
    "# plotting a pie chart to visaulize the duration of viewer in the stream.\n",
    "values= [avg_of_durationGTR5sec, avg_of_durationGTR2min, avg_of_durationGTR10min]\n",
    "labels= ['5 sec', '2 min', '10 min']\n",
    "plt.pie(values, labels=labels, autopct='%1.1f%%', startangle=90)\n",
    "plt.show()"
   ]
  },
  {
   "cell_type": "markdown",
   "id": "0dfde955-9630-4a2c-995b-29fd70119fcd",
   "metadata": {},
   "source": [
    "We can conclude that most viewers leave the stream within the first 5 seconds, so an ad should be played as soon as the viewer starts the stream."
   ]
  },
  {
   "cell_type": "code",
   "execution_count": 259,
   "id": "750e5107-a326-4e51-8e39-fe6f7db3689a",
   "metadata": {},
   "outputs": [],
   "source": [
    "# Calculating the peak time (in seconds) in the stream where the viewers are maximum and high interaction of viewers is observed.\n",
    "data.loc[:, 'time_to_peak'] = (data['maxLiveViewerTime'] - data['beginTime']).dt.total_seconds()"
   ]
  },
  {
   "cell_type": "code",
   "execution_count": 268,
   "id": "dceb7b0a-5ead-461e-80e9-d6349e3bde67",
   "metadata": {},
   "outputs": [],
   "source": [
    "# calculating what percent of total duration is the peak time.\n",
    "data.loc[:, 'peak_percent'] = (data['time_to_peak'] / data['duration']) * 100"
   ]
  },
  {
   "cell_type": "code",
   "execution_count": 261,
   "id": "d44730d2-81b6-40b8-83f7-62a89368a650",
   "metadata": {},
   "outputs": [
    {
     "data": {
      "image/png": "[encoded data removed]",
      "text/plain": [
       "<Figure size 640x480 with 1 Axes>"
      ]
     },
     "metadata": {},
     "output_type": "display_data"
    }
   ],
   "source": [
    "plt.hist(data['peak_percent'], bins=10, edgecolor='white', color='black')\n",
    "plt.axvline(data['peak_percent'].mean(), linestyle='--', label='Avg of peak time', color='red')\n",
    "plt.xlabel('peak_percent %')\n",
    "plt.ylabel('number of streams')\n",
    "plt.title('Distribution of Peak Viewership Time')\n",
    "plt.legend()\n",
    "plt.show()"
   ]
  },
  {
   "cell_type": "markdown",
   "id": "7a133823-a871-4648-91de-cc5020d7dccd",
   "metadata": {},
   "source": [
    "Referring to the above graph , most of the streams reach their peak point approx. at 20% mark (before avg), hence placing ads at that time could capture more audience.\n",
    "\n"
   ]
  },
  {
   "cell_type": "code",
   "execution_count": 262,
   "id": "b71d67ae-88ec-4b44-863d-bf97796353a5",
   "metadata": {},
   "outputs": [
    {
     "name": "stderr",
     "output_type": "stream",
     "text": [
      "C:\\Users\\Raghavendra\\AppData\\Local\\Temp\\ipykernel_3616\\3589692100.py:8: FutureWarning: \n",
      "\n",
      "Passing `palette` without assigning `hue` is deprecated and will be removed in v0.14.0. Assign the `x` variable to `hue` and set `legend=False` for the same effect.\n",
      "\n",
      "  sns.barplot(\n"
     ]
    },
    {
     "data": {
      "text/plain": [
       "Text(0.5, 0, 'Type of stream')"
      ]
     },
     "execution_count": 262,
     "metadata": {},
     "output_type": "execute_result"
    },
    {
     "data": {
      "image/png": "[encoded data removed]",
      "text/plain": [
       "<Figure size 640x480 with 1 Axes>"
      ]
     },
     "metadata": {},
     "output_type": "display_data"
    }
   ],
   "source": [
    "# Calculating the peak percent in long and short streams.\n",
    "longstreams=data[(data['duration']/60)>5]\n",
    "shortstreams=data[(data['duration']/60)<=5]\n",
    "\n",
    "long_mean = longstreams['peak_percent'].mean()\n",
    "short_mean = shortstreams['peak_percent'].mean()\n",
    "# plt.figure(figsize=(8, 5))\n",
    "sns.barplot(\n",
    "    x=['Short Streams (≤5 min)','Long Streams (>5 min)'],\n",
    "    y=[short_mean, long_mean],\n",
    "    palette=['skyblue', 'salmon'],\n",
    "    edgecolor='black'\n",
    ")\n",
    "plt.ylabel('Peak %')\n",
    "plt.ylim(0,100)\n",
    "plt.xlabel('Type of stream')\n"
   ]
  },
  {
   "cell_type": "markdown",
   "id": "1e681366-b2b0-4f4a-afdd-73e6ff60d03c",
   "metadata": {},
   "source": [
    "When segmenting streams by duration, we found that short streams (≤5 minutes) typically reach peak viewership earlier, around 53.83% of the stream duration, while longer streams (>10 minutes) peak slightly later, around 44.86%. This insight suggests that for short streams, advertisements should be shown very early whereas for longer streams we can place the ads a bit later in the middle.\n",
    "short -> 55% of 5min = 2.5min aporox. ad placement time.\n",
    "long  -> 45% of 10min = 4.5 min approx. ad placement time ( just for reference actual may vary on stream length)."
   ]
  },
  {
   "cell_type": "code",
   "execution_count": 263,
   "id": "8deb5c6c-cc0b-4c0d-99c4-b72fb409297b",
   "metadata": {},
   "outputs": [],
   "source": [
    "# calculating the peak viewership hour of the day.\n",
    "data['hour_of_day']= data['maxLiveViewerTime'].dt.hour"
   ]
  },
  {
   "cell_type": "code",
   "execution_count": 264,
   "id": "b392e2cb-dab8-497c-b170-fd018ba5963f",
   "metadata": {},
   "outputs": [
    {
     "data": {
      "image/png": "[encoded data removed]",
      "text/plain": [
       "<Figure size 1200x600 with 1 Axes>"
      ]
     },
     "metadata": {},
     "output_type": "display_data"
    }
   ],
   "source": [
    "data['hour_of_day']= data['maxLiveViewerTime'].dt.hour\n",
    "plt.figure(figsize=(12,6))\n",
    "plt.title('Distribution of Peak Viewership by Hour of Day')\n",
    "sns.histplot(x='hour_of_day', bins=24, data=data, color='green',edgecolor='white')\n",
    "plt.axvline(data['hour_of_day'].mode()[0],color='black', linestyle='--', label='Most Peak Hour')\n",
    "plt.ylabel('Stream Frequency')\n",
    "plt.legend()\n",
    "plt.xticks(range(0,24))\n",
    "plt.show()"
   ]
  },
  {
   "cell_type": "code",
   "execution_count": 265,
   "id": "b33b4271-e9ce-4ecb-8461-e557c61857c2",
   "metadata": {},
   "outputs": [
    {
     "data": {
      "text/plain": [
       "hour_of_day\n",
       "0.0    122\n",
       "1.0    153\n",
       "2.0    160\n",
       "3.0    169\n",
       "4.0    130\n",
       "Name: count, dtype: int64"
      ]
     },
     "execution_count": 265,
     "metadata": {},
     "output_type": "execute_result"
    }
   ],
   "source": [
    "data['hour_of_day'].value_counts().sort_index().head()"
   ]
  },
  {
   "cell_type": "markdown",
   "id": "cbc20fa2-9bd5-475f-b38c-7d7c12fae47c",
   "metadata": {},
   "source": [
    "From the above histplot we can conclude that most streams reach peak viewer activity around 1–3 AM, especially at 3 AM. This suggests that early morning hours attract high viewer engagement making it another useful insgiht for ad placement."
   ]
  },
  {
   "cell_type": "code",
   "execution_count": 266,
   "id": "8b66e69e-a2ec-4643-afce-e398ff71825a",
   "metadata": {},
   "outputs": [],
   "source": [
    "ios_count=data['ios'].sum()\n",
    "android_count=data['android'].sum()"
   ]
  },
  {
   "cell_type": "code",
   "execution_count": 267,
   "id": "dd7e2377-4267-40ba-8575-58d90577f9b7",
   "metadata": {},
   "outputs": [
    {
     "data": {
      "image/png": "[encoded data removed]",
      "text/plain": [
       "<Figure size 640x480 with 1 Axes>"
      ]
     },
     "metadata": {},
     "output_type": "display_data"
    }
   ],
   "source": [
    "plt.pie(x=[ios_count, android_count], labels=['iOS', 'Android'], autopct='%1.1f%%', colors=['#66b3ff', '#99ff99'])\n",
    "plt.show()"
   ]
  },
  {
   "cell_type": "code",
   "execution_count": 282,
   "id": "74f100fa-4d71-453e-ae15-702785078e85",
   "metadata": {},
   "outputs": [
    {
     "data": {
      "text/plain": [
       "Index(['liveStreamID', 'beginTime', 'endTime', 'duration', 'closeBy',\n",
       "       'maxLiveViewerCount', 'maxLiveViewerTime', 'receivedLikeCount',\n",
       "       'userID', 'registerTime', 'uniqueViewerCount', 'ios', 'android',\n",
       "       'durationGTE5sec', 'durationGTE2min', 'durationGTE10min',\n",
       "       'totalViewerDuration', 'avgViewerDuration', 'avgStreamJoinDuration',\n",
       "       'count', 'followIncreaseEstimated', 'receivePointEstimated',\n",
       "       'durationinmin', 'typeofstream', 'time_to_peak', 'peak_percent',\n",
       "       'hour_of_day', 'hour_of_begin'],\n",
       "      dtype='object')"
      ]
     },
     "execution_count": 282,
     "metadata": {},
     "output_type": "execute_result"
    }
   ],
   "source": [
    "data.columns"
   ]
  },
  {
   "cell_type": "code",
   "execution_count": 283,
   "id": "b12eb0d0-b459-4412-b94b-859dfa3850b0",
   "metadata": {},
   "outputs": [],
   "source": [
    "data['hour_of_begin']=data['beginTime'].dt.hour"
   ]
  },
  {
   "cell_type": "code",
   "execution_count": 288,
   "id": "5b7f7e89-6b9f-423c-b525-0ca615f673b7",
   "metadata": {},
   "outputs": [
    {
     "data": {
      "image/png": "[encoded data removed]",
      "text/plain": [
       "<Figure size 1000x500 with 1 Axes>"
      ]
     },
     "metadata": {},
     "output_type": "display_data"
    }
   ],
   "source": [
    "plt.figure(figsize=(10,5))\n",
    "sns.histplot(x='hour_of_begin', bins=23, data=data , edgecolor='black')\n",
    "plt.xticks(range(0,24))\n",
    "plt.show()"
   ]
  }
 ],
 "metadata": {
  "kernelspec": {
   "display_name": "Python 3 (ipykernel)",
   "language": "python",
   "name": "python3"
  },
  "language_info": {
   "codemirror_mode": {
    "name": "ipython",
    "version": 3
   },
   "file_extension": ".py",
   "mimetype": "text/x-python",
   "name": "python",
   "nbconvert_exporter": "python",
   "pygments_lexer": "ipython3",
   "version": "3.13.1"
  }
 },
 "nbformat": 4,
 "nbformat_minor": 5
}
